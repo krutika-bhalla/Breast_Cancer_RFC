{
  "nbformat": 4,
  "nbformat_minor": 0,
  "metadata": {
    "colab": {
      "provenance": []
    },
    "kernelspec": {
      "name": "python3",
      "display_name": "Python 3"
    },
    "language_info": {
      "name": "python"
    }
  },
  "cells": [
    {
      "cell_type": "code",
      "execution_count": null,
      "metadata": {
        "id": "wLmTRRXTIaH5"
      },
      "outputs": [],
      "source": [
        "import pandas as pd\n",
        "from sklearn.model_selection import train_test_split\n",
        "from sklearn.ensemble import RandomForestClassifier\n",
        "from sklearn.preprocessing import LabelEncoder, StandardScaler\n",
        "\n",
        "df2 = pd.read_csv('/content/implementation_correctness_dataset.csv')\n",
        "\n",
        "\n",
        "# Convert categorical data to numerical data\n",
        "le = LabelEncoder()\n",
        "df2['Class/Cluster'] = le.fit_transform(df2['Class/Cluster'])\n",
        "\n",
        "# # Randomly select 12 datapoints\n",
        "# random_indices = np.random.choice(df2.shape[0], 12, replace=False)\n",
        "# dataa = df2.iloc[random_indices]\n",
        "\n",
        "\n",
        "# Split data into features and target\n",
        "X_new = df2.drop('Class/Cluster', axis=1).values\n",
        "y_new = df2['Class/Cluster'].values\n",
        "\n",
        "\n",
        "# Split data into training and testing sets\n",
        "from sklearn.model_selection import train_test_split\n",
        "X_train_new, X_test_new, y_train_new, y_test_new = train_test_split(X_new, y_new, test_size=0.2, random_state=42)\n"
      ]
    },
    {
      "cell_type": "code",
      "source": [
        "clf = RandomForestClassifier(n_estimators = 20, max_samples=12)"
      ],
      "metadata": {
        "id": "zP5-yhQgri6N"
      },
      "execution_count": null,
      "outputs": []
    },
    {
      "cell_type": "code",
      "source": [
        "clf.fit(X_train_new, y_train_new)\n",
        "\n",
        "y_pred_new = clf.predict(X_test_new)\n",
        "# acc_new = accuracy(y_test_new, y_pred_new)"
      ],
      "metadata": {
        "id": "45_7dLotrnsk"
      },
      "execution_count": null,
      "outputs": []
    },
    {
      "cell_type": "code",
      "source": [
        "from sklearn.metrics import accuracy_score\n",
        "\n",
        "acc = accuracy_score(y_test_new, y_pred_new)\n",
        "print(acc)"
      ],
      "metadata": {
        "colab": {
          "base_uri": "https://localhost:8080/"
        },
        "id": "TgzZazn6r6PI",
        "outputId": "bc4ac981-31ba-4916-d91e-abaec8892bcc"
      },
      "execution_count": null,
      "outputs": [
        {
          "output_type": "stream",
          "name": "stdout",
          "text": [
            "1.0\n"
          ]
        }
      ]
    },
    {
      "cell_type": "code",
      "source": [
        "from sklearn.datasets import load_breast_cancer\n",
        "from sklearn.model_selection import train_test_split\n",
        "from sklearn.ensemble import RandomForestClassifier\n",
        "from sklearn.metrics import accuracy_score\n",
        "\n",
        "# Load the breast cancer dataset\n",
        "data = load_breast_cancer()\n",
        "X = data.data\n",
        "y = data.target\n",
        "\n",
        "# Split the data into training and testing sets\n",
        "X_train, X_test, y_train, y_test = train_test_split(X, y, test_size=0.2, random_state=42)\n",
        "\n",
        "# Create the random forest classifier with 20 base trees\n",
        "rf = RandomForestClassifier(n_estimators=20, random_state=42)\n",
        "\n",
        "# Train the model on the training data\n",
        "rf.fit(X_train, y_train)\n",
        "\n",
        "# Make predictions on the testing data\n",
        "predictions = rf.predict(X_test)\n",
        "\n",
        "# Calculate the accuracy of the predictions\n",
        "accuracy = accuracy_score(y_test, predictions)\n",
        "print(\"Accuracy:\", accuracy)\n"
      ],
      "metadata": {
        "id": "rHsRq--b-gaS",
        "outputId": "696d7642-971f-44bb-9076-48da04476e77",
        "colab": {
          "base_uri": "https://localhost:8080/"
        }
      },
      "execution_count": null,
      "outputs": [
        {
          "output_type": "stream",
          "name": "stdout",
          "text": [
            "Accuracy: 0.9649122807017544\n"
          ]
        }
      ]
    }
  ]
}